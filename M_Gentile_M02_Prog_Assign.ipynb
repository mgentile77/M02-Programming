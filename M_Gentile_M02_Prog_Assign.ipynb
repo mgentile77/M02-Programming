{
 "cells": [
  {
   "cell_type": "markdown",
   "metadata": {},
   "source": [
    "Michael Gentile\n",
    "M02 - Programming Assign\n",
    "10/29/23\n",
    "F.Liu"
   ]
  },
  {
   "cell_type": "markdown",
   "metadata": {},
   "source": [
    "Question 4.1"
   ]
  },
  {
   "cell_type": "code",
   "execution_count": 8,
   "metadata": {},
   "outputs": [
    {
     "name": "stdout",
     "output_type": "stream",
     "text": [
      "That entry was incorrect.\n",
      "Thank you for playing\n"
     ]
    }
   ],
   "source": [
    "import random as ran\n",
    "\n",
    "secret = ran.randint(1,10)\n",
    "guess = input(\"Please guess an number between 1 and 10 or anything else to end:\\n\")\n",
    "def isGuessCorrect(guess):\n",
    "    try:\n",
    "        int(guess)\n",
    "        if int(guess) <1 | int(guess) > 10:\n",
    "            raise Exception(\"Incorect entry\")\n",
    "    except (ValueError, Exception):\n",
    "        print(\"That entry ends the game.\")\n",
    "        return False\n",
    "    return True\n",
    "while isGuessCorrect(guess) == True:\n",
    "    if int(guess) == secret:\n",
    "        print(\"Just Right\")\n",
    "        break\n",
    "    elif int(guess) > secret:\n",
    "        print(\"Too High\")\n",
    "        guess = input(\"Please guess an number between 1 and 10 or anything else to end:\\n\")\n",
    "    elif int(guess) < secret:\n",
    "        print(\"Too Low\")\n",
    "        guess = input(\"Please guess an number between 1 and 10 or anything else to end:\\n\")\n",
    "        \n",
    "        \n",
    "print(\"Thank you for playing\")\n",
    "\n",
    "\n",
    "    \n",
    "    "
   ]
  },
  {
   "cell_type": "markdown",
   "metadata": {},
   "source": [
    "Question 4.2"
   ]
  },
  {
   "cell_type": "code",
   "execution_count": null,
   "metadata": {},
   "outputs": [],
   "source": []
  }
 ],
 "metadata": {
  "kernelspec": {
   "display_name": "Python 3",
   "language": "python",
   "name": "python3"
  },
  "language_info": {
   "codemirror_mode": {
    "name": "ipython",
    "version": 3
   },
   "file_extension": ".py",
   "mimetype": "text/x-python",
   "name": "python",
   "nbconvert_exporter": "python",
   "pygments_lexer": "ipython3",
   "version": "3.11.5"
  }
 },
 "nbformat": 4,
 "nbformat_minor": 2
}
